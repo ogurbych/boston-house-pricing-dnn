{
 "cells": [
  {
   "cell_type": "code",
   "execution_count": 15,
   "id": "25dcaf6f-f946-483f-bbd8-fb7ea472ab56",
   "metadata": {},
   "outputs": [
    {
     "name": "stdout",
     "output_type": "stream",
     "text": [
      "TensorFlow version: 2.7.0\n"
     ]
    }
   ],
   "source": [
    "import datetime\n",
    "\n",
    "import numpy as np\n",
    "import pandas as pd\n",
    "from catboost import CatBoostRegressor\n",
    "\n",
    "import seaborn as sns\n",
    "import matplotlib.pyplot as plt\n",
    "\n",
    "from sklearn.model_selection import train_test_split\n",
    "\n",
    "import tensorflow as tf\n",
    "print(\"TensorFlow version:\", tf.__version__)\n",
    "\n",
    "%load_ext tensorboard"
   ]
  },
  {
   "cell_type": "code",
   "execution_count": 17,
   "id": "15c30911-851e-4674-8bec-6dd0651083ca",
   "metadata": {},
   "outputs": [
    {
     "name": "stdout",
     "output_type": "stream",
     "text": [
      "train_df.shape (404, 14)\n"
     ]
    },
    {
     "data": {
      "text/html": [
       "<div>\n",
       "<style scoped>\n",
       "    .dataframe tbody tr th:only-of-type {\n",
       "        vertical-align: middle;\n",
       "    }\n",
       "\n",
       "    .dataframe tbody tr th {\n",
       "        vertical-align: top;\n",
       "    }\n",
       "\n",
       "    .dataframe thead th {\n",
       "        text-align: right;\n",
       "    }\n",
       "</style>\n",
       "<table border=\"1\" class=\"dataframe\">\n",
       "  <thead>\n",
       "    <tr style=\"text-align: right;\">\n",
       "      <th></th>\n",
       "      <th>crim</th>\n",
       "      <th>zn</th>\n",
       "      <th>indus</th>\n",
       "      <th>chas</th>\n",
       "      <th>nox</th>\n",
       "      <th>rm</th>\n",
       "      <th>age</th>\n",
       "      <th>dis</th>\n",
       "      <th>rad</th>\n",
       "      <th>tax</th>\n",
       "      <th>ptratio</th>\n",
       "      <th>black</th>\n",
       "      <th>lstat</th>\n",
       "      <th>medv</th>\n",
       "    </tr>\n",
       "  </thead>\n",
       "  <tbody>\n",
       "    <tr>\n",
       "      <th>0</th>\n",
       "      <td>0.15876</td>\n",
       "      <td>0.0</td>\n",
       "      <td>10.81</td>\n",
       "      <td>0.0</td>\n",
       "      <td>0.413</td>\n",
       "      <td>5.961</td>\n",
       "      <td>17.5</td>\n",
       "      <td>5.2873</td>\n",
       "      <td>4.0</td>\n",
       "      <td>305.0</td>\n",
       "      <td>19.2</td>\n",
       "      <td>376.94</td>\n",
       "      <td>9.88</td>\n",
       "      <td>21.7</td>\n",
       "    </tr>\n",
       "    <tr>\n",
       "      <th>1</th>\n",
       "      <td>0.10328</td>\n",
       "      <td>25.0</td>\n",
       "      <td>5.13</td>\n",
       "      <td>0.0</td>\n",
       "      <td>0.453</td>\n",
       "      <td>5.927</td>\n",
       "      <td>47.2</td>\n",
       "      <td>6.9320</td>\n",
       "      <td>8.0</td>\n",
       "      <td>284.0</td>\n",
       "      <td>19.7</td>\n",
       "      <td>396.90</td>\n",
       "      <td>9.22</td>\n",
       "      <td>19.6</td>\n",
       "    </tr>\n",
       "  </tbody>\n",
       "</table>\n",
       "</div>"
      ],
      "text/plain": [
       "      crim    zn  indus  chas    nox     rm   age     dis  rad    tax  \\\n",
       "0  0.15876   0.0  10.81   0.0  0.413  5.961  17.5  5.2873  4.0  305.0   \n",
       "1  0.10328  25.0   5.13   0.0  0.453  5.927  47.2  6.9320  8.0  284.0   \n",
       "\n",
       "   ptratio   black  lstat  medv  \n",
       "0     19.2  376.94   9.88  21.7  \n",
       "1     19.7  396.90   9.22  19.6  "
      ]
     },
     "execution_count": 17,
     "metadata": {},
     "output_type": "execute_result"
    }
   ],
   "source": [
    "# medv - target\n",
    "\n",
    "train_df = pd.read_csv('boston_data.csv')\n",
    "\n",
    "print('train_df.shape', train_df.shape)\n",
    "train_df.head(2)"
   ]
  },
  {
   "cell_type": "markdown",
   "id": "62e2d039-a526-4871-a18a-f31f7064d06e",
   "metadata": {},
   "source": [
    "# EDA"
   ]
  },
  {
   "cell_type": "code",
   "execution_count": 3,
   "id": "49900ec9-4e42-4819-951e-8d212e2ce393",
   "metadata": {
    "collapsed": true,
    "jupyter": {
     "outputs_hidden": true
    },
    "tags": []
   },
   "outputs": [
    {
     "data": {
      "text/plain": [
       "crim       0\n",
       "zn         0\n",
       "indus      0\n",
       "chas       0\n",
       "nox        0\n",
       "rm         0\n",
       "age        0\n",
       "dis        0\n",
       "rad        0\n",
       "tax        0\n",
       "ptratio    0\n",
       "black      0\n",
       "lstat      0\n",
       "medv       0\n",
       "dtype: int64"
      ]
     },
     "execution_count": 3,
     "metadata": {},
     "output_type": "execute_result"
    }
   ],
   "source": [
    "train_df.isna().sum()"
   ]
  },
  {
   "cell_type": "code",
   "execution_count": 11,
   "id": "71f97fcb-00f2-4d8d-9796-bf1c7d1e680e",
   "metadata": {},
   "outputs": [
    {
     "data": {
      "image/png": "[encoded data removed]",
      "text/plain": [
       "<Figure size 864x576 with 2 Axes>"
      ]
     },
     "metadata": {
      "needs_background": "light"
     },
     "output_type": "display_data"
    }
   ],
   "source": [
    "f = plt.figure(figsize=(12, 8))\n",
    "plt.matshow(train_df.corr(), fignum=f.number)\n",
    "plt.xticks(range(train_df.select_dtypes(['number']).shape[1]),\n",
    "           train_df.select_dtypes(['number']).columns,\n",
    "           fontsize=14,\n",
    "           rotation=45)\n",
    "plt.yticks(range(train_df.select_dtypes(['number']).shape[1]),\n",
    "           train_df.select_dtypes(['number']).columns,\n",
    "           fontsize=14)\n",
    "cb = plt.colorbar()\n",
    "cb.ax.tick_params(labelsize=14)\n",
    "plt.title('Correlation Matrix', fontsize=16);"
   ]
  },
  {
   "cell_type": "code",
   "execution_count": 19,
   "id": "35681162-cd2d-444f-9bfe-58b3b0cb3167",
   "metadata": {},
   "outputs": [
    {
     "data": {
      "text/plain": [
       "0.0    376\n",
       "1.0     28\n",
       "Name: chas, dtype: int64"
      ]
     },
     "execution_count": 19,
     "metadata": {},
     "output_type": "execute_result"
    }
   ],
   "source": [
    "train_df.chas.value_counts(dropna=False)"
   ]
  },
  {
   "cell_type": "markdown",
   "id": "0871aa63-edd1-4d6d-90ed-be803abe4847",
   "metadata": {},
   "source": [
    "# Train / test prep"
   ]
  },
  {
   "cell_type": "code",
   "execution_count": 3,
   "id": "6ef4846e-2157-4ec2-adac-12d6c9d2207d",
   "metadata": {},
   "outputs": [],
   "source": [
    "X_train, X_valid, y_train, y_valid = train_test_split(train_df.loc[:, train_df.columns != 'medv'],\n",
    "                                                      train_df['medv'],\n",
    "                                                      test_size=0.20)\n",
    "X_train['rad'] = X_train['rad'].astype(int)\n",
    "X_train['chas'] = X_train['chas'].astype(int)\n",
    "X_valid['rad'] = X_valid['rad'].astype(int)\n",
    "X_valid['chas'] = X_valid['chas'].astype(int)"
   ]
  },
  {
   "cell_type": "markdown",
   "id": "92981531-f3b5-4fc1-905f-824a1f94be90",
   "metadata": {},
   "source": [
    "# Baseline - CatBoostRegressor"
   ]
  },
  {
   "cell_type": "code",
   "execution_count": 23,
   "id": "c00c3537-5cf6-4ce9-8d2e-1830a05f00cb",
   "metadata": {},
   "outputs": [
    {
     "name": "stderr",
     "output_type": "stream",
     "text": [
      "Warning: Overfitting detector is active, thus evaluation metric is calculated on every iteration. 'metric_period' is ignored for evaluation metric.\n"
     ]
    },
    {
     "name": "stdout",
     "output_type": "stream",
     "text": [
      "0:\tlearn: 8.5412341\ttest: 7.2565427\tbest: 7.2565427 (0)\ttotal: 59.8ms\tremaining: 9m 57s\n",
      "50:\tlearn: 2.3490361\ttest: 3.0505119\tbest: 3.0505119 (50)\ttotal: 138ms\tremaining: 26.9s\n",
      "100:\tlearn: 1.5975668\ttest: 2.7497768\tbest: 2.7497768 (100)\ttotal: 215ms\tremaining: 21.1s\n",
      "150:\tlearn: 1.2310022\ttest: 2.6424656\tbest: 2.6415414 (146)\ttotal: 285ms\tremaining: 18.6s\n",
      "200:\tlearn: 0.9137476\ttest: 2.5751109\tbest: 2.5744281 (199)\ttotal: 352ms\tremaining: 17.2s\n",
      "250:\tlearn: 0.7072664\ttest: 2.5531429\tbest: 2.5531429 (250)\ttotal: 421ms\tremaining: 16.4s\n",
      "300:\tlearn: 0.5690753\ttest: 2.5526508\tbest: 2.5458284 (263)\ttotal: 489ms\tremaining: 15.8s\n",
      "Stopped by overfitting detector  (50 iterations wait)\n",
      "\n",
      "bestTest = 2.54582845\n",
      "bestIteration = 263\n",
      "\n",
      "Shrink model to first 264 iterations.\n"
     ]
    },
    {
     "data": {
      "text/plain": [
       "<catboost.core.CatBoostRegressor at 0x13c5ce0d0>"
      ]
     },
     "execution_count": 23,
     "metadata": {},
     "output_type": "execute_result"
    }
   ],
   "source": [
    "cat_ft = ['rad', 'chas']\n",
    "cb = CatBoostRegressor(iterations=10000,\n",
    "                       learning_rate=0.1,\n",
    "                       eval_metric='RMSE',\n",
    "                       od_type='Iter',\n",
    "                       metric_period = 50,\n",
    "                       od_wait=50)\n",
    "cb.fit(X_train, y_train,\n",
    "       eval_set=(X_valid, y_valid),\n",
    "       cat_features=cat_ft,\n",
    "       use_best_model=True,\n",
    "       verbose=True)"
   ]
  },
  {
   "cell_type": "markdown",
   "id": "2eb382cf-02a4-4700-890f-24db8d0fd59f",
   "metadata": {},
   "source": [
    "# DNN"
   ]
  },
  {
   "cell_type": "markdown",
   "id": "a6c67e8b-1193-451e-9825-943461bae86e",
   "metadata": {},
   "source": [
    "## DNN Baseline"
   ]
  },
  {
   "cell_type": "code",
   "execution_count": 18,
   "id": "e18241e7-0930-459b-8ce9-da4fb8736a34",
   "metadata": {
    "collapsed": true,
    "jupyter": {
     "outputs_hidden": true
    },
    "tags": []
   },
   "outputs": [
    {
     "name": "stdout",
     "output_type": "stream",
     "text": [
      "Epoch 1/10\n",
      "11/11 [==============================] - 0s 10ms/step - loss: 1330.9996 - rmse: 36.4829 - val_loss: 223.0902 - val_rmse: 14.9362\n",
      "Epoch 2/10\n",
      "11/11 [==============================] - 0s 2ms/step - loss: 1068.3203 - rmse: 32.6852 - val_loss: 158.0146 - val_rmse: 12.5704\n",
      "Epoch 3/10\n",
      "11/11 [==============================] - 0s 2ms/step - loss: 1248.0105 - rmse: 35.3272 - val_loss: 142.3474 - val_rmse: 11.9309\n",
      "Epoch 4/10\n",
      "11/11 [==============================] - 0s 2ms/step - loss: 951.6519 - rmse: 30.8489 - val_loss: 104.9026 - val_rmse: 10.2422\n",
      "Epoch 5/10\n",
      "11/11 [==============================] - 0s 2ms/step - loss: 808.0149 - rmse: 28.4256 - val_loss: 94.6576 - val_rmse: 9.7292\n",
      "Epoch 6/10\n",
      "11/11 [==============================] - 0s 2ms/step - loss: 695.5161 - rmse: 26.3726 - val_loss: 97.2495 - val_rmse: 9.8615\n",
      "Epoch 7/10\n",
      "11/11 [==============================] - 0s 3ms/step - loss: 644.9678 - rmse: 25.3962 - val_loss: 79.5113 - val_rmse: 8.9169\n",
      "Epoch 8/10\n",
      "11/11 [==============================] - 0s 2ms/step - loss: 665.0555 - rmse: 25.7887 - val_loss: 70.5087 - val_rmse: 8.3969\n",
      "Epoch 9/10\n",
      "11/11 [==============================] - 0s 2ms/step - loss: 710.6211 - rmse: 26.6575 - val_loss: 78.6881 - val_rmse: 8.8706\n",
      "Epoch 10/10\n",
      "11/11 [==============================] - 0s 2ms/step - loss: 540.2604 - rmse: 23.2435 - val_loss: 92.3563 - val_rmse: 9.6102\n"
     ]
    },
    {
     "data": {
      "text/plain": [
       "<keras.callbacks.History at 0x1465e6310>"
      ]
     },
     "execution_count": 18,
     "metadata": {},
     "output_type": "execute_result"
    }
   ],
   "source": [
    "model = tf.keras.models.Sequential([\n",
    "    tf.keras.Input(shape=(13,)),\n",
    "    tf.keras.layers.Dense(128, activation='relu'),\n",
    "    tf.keras.layers.Dropout(0.2),\n",
    "    tf.keras.layers.Dense(1)\n",
    "])\n",
    "\n",
    "model.compile(optimizer='adam',\n",
    "              loss='mean_squared_error',\n",
    "              metrics=[tf.keras.metrics.RootMeanSquaredError(name='rmse')])\n",
    "\n",
    "model.fit(X_train,\n",
    "          y_train,\n",
    "          validation_data=(X_valid, y_valid),\n",
    "          workers=6,\n",
    "          epochs=10)"
   ]
  },
  {
   "cell_type": "markdown",
   "id": "a90db89a-e7a2-4ba0-9cde-0ca93948b703",
   "metadata": {},
   "source": [
    "## DNN + callbacks + glorot_uniform + relu"
   ]
  },
  {
   "cell_type": "code",
   "execution_count": 6,
   "id": "f0dce0cc-bb30-478e-8f5c-33b06cc9162c",
   "metadata": {
    "tags": []
   },
   "outputs": [
    {
     "name": "stdout",
     "output_type": "stream",
     "text": [
      "CPU times: user 1.53 s, sys: 419 ms, total: 1.95 s\n",
      "Wall time: 1.42 s\n"
     ]
    },
    {
     "data": {
      "text/plain": [
       "<keras.callbacks.History at 0x14be29ac0>"
      ]
     },
     "execution_count": 6,
     "metadata": {},
     "output_type": "execute_result"
    }
   ],
   "source": [
    "%%time\n",
    "model = tf.keras.models.Sequential([\n",
    "    tf.keras.Input(shape=(13,)),\n",
    "    tf.keras.layers.Dense(128, activation='relu'),\n",
    "    tf.keras.layers.Dropout(0.2),\n",
    "    tf.keras.layers.Dense(1)\n",
    "])\n",
    "\n",
    "model.compile(optimizer='adam',\n",
    "              loss='mean_squared_error',\n",
    "              metrics=[tf.keras.metrics.RootMeanSquaredError()])\n",
    "callbacks = [\n",
    "    tf.keras.callbacks.EarlyStopping(monitor='val_root_mean_squared_error', patience=10),\n",
    "    tf.keras.callbacks.ReduceLROnPlateau(monitor='val_root_mean_squared_error'),\n",
    "    tf.keras.callbacks.ModelCheckpoint(filepath='checkpoint/1/{epoch:02d}-{val_root_mean_squared_error:.2f}.hdf5',\n",
    "                                       monitor='val_root_mean_squared_error',\n",
    "                                       verbose=0,\n",
    "                                       save_best_only=True)\n",
    "]\n",
    "model.fit(X_train,\n",
    "          y_train,\n",
    "          validation_data=(X_valid, y_valid),\n",
    "          workers=12,\n",
    "          callbacks=callbacks,\n",
    "          verbose=0,\n",
    "          epochs=1000)"
   ]
  },
  {
   "cell_type": "markdown",
   "id": "65dfe0e9-d895-4d97-b98f-bdb9e6b2f895",
   "metadata": {},
   "source": [
    "## DNN + callbacks + glorot_uniform + elu"
   ]
  },
  {
   "cell_type": "code",
   "execution_count": 7,
   "id": "c0a5995b-2f8f-4199-9198-7f8e347cd0d7",
   "metadata": {},
   "outputs": [
    {
     "name": "stdout",
     "output_type": "stream",
     "text": [
      "CPU times: user 6.67 s, sys: 2.01 s, total: 8.68 s\n",
      "Wall time: 6.05 s\n"
     ]
    },
    {
     "data": {
      "text/plain": [
       "<keras.callbacks.History at 0x14bdc6b80>"
      ]
     },
     "execution_count": 7,
     "metadata": {},
     "output_type": "execute_result"
    }
   ],
   "source": [
    "%%time\n",
    "model = tf.keras.models.Sequential([\n",
    "    tf.keras.Input(shape=(13,)),\n",
    "    tf.keras.layers.Dense(128, activation='elu'),\n",
    "    tf.keras.layers.Dropout(0.2),\n",
    "    tf.keras.layers.Dense(1)\n",
    "])\n",
    "\n",
    "model.compile(optimizer='adam',\n",
    "              loss='mean_squared_error',\n",
    "              metrics=[tf.keras.metrics.RootMeanSquaredError()])\n",
    "callbacks = [\n",
    "    tf.keras.callbacks.EarlyStopping(monitor='val_root_mean_squared_error', patience=10),\n",
    "    tf.keras.callbacks.ReduceLROnPlateau(monitor='val_root_mean_squared_error'),\n",
    "    tf.keras.callbacks.ModelCheckpoint(filepath='checkpoint/2/{epoch:02d}-{val_root_mean_squared_error:.2f}.hdf5',\n",
    "                                       monitor='val_root_mean_squared_error',\n",
    "                                       verbose=0,\n",
    "                                       save_best_only=True)\n",
    "]\n",
    "model.fit(X_train,\n",
    "          y_train,\n",
    "          validation_data=(X_valid, y_valid),\n",
    "          workers=12,\n",
    "          callbacks=callbacks,\n",
    "          verbose=0,\n",
    "          epochs=1000)"
   ]
  },
  {
   "cell_type": "markdown",
   "id": "0670d7ab-a368-44b6-8d4b-0a606058dd0d",
   "metadata": {},
   "source": [
    "## DNN + callbacks + glorot_uniform + sigmoid"
   ]
  },
  {
   "cell_type": "code",
   "execution_count": 11,
   "id": "d01139f9-084c-4059-99c0-6137070b52ea",
   "metadata": {},
   "outputs": [
    {
     "name": "stdout",
     "output_type": "stream",
     "text": [
      "CPU times: user 9.01 s, sys: 2.59 s, total: 11.6 s\n",
      "Wall time: 8.39 s\n"
     ]
    },
    {
     "data": {
      "text/plain": [
       "<keras.callbacks.History at 0x14b4a85e0>"
      ]
     },
     "execution_count": 11,
     "metadata": {},
     "output_type": "execute_result"
    }
   ],
   "source": [
    "%%time\n",
    "model = tf.keras.models.Sequential([\n",
    "    tf.keras.Input(shape=(13,)),\n",
    "    tf.keras.layers.Dense(128, activation='sigmoid'),\n",
    "    tf.keras.layers.Dropout(0.2),\n",
    "    tf.keras.layers.Dense(1)\n",
    "])\n",
    "\n",
    "model.compile(optimizer='adam',\n",
    "              loss='mean_squared_error',\n",
    "              metrics=[tf.keras.metrics.RootMeanSquaredError()])\n",
    "callbacks = [\n",
    "    tf.keras.callbacks.EarlyStopping(monitor='val_root_mean_squared_error', patience=10),\n",
    "    tf.keras.callbacks.ReduceLROnPlateau(monitor='val_root_mean_squared_error'),\n",
    "    tf.keras.callbacks.ModelCheckpoint(filepath='checkpoint/3/{epoch:02d}-{val_root_mean_squared_error:.2f}.hdf5',\n",
    "                                       monitor='val_root_mean_squared_error',\n",
    "                                       verbose=0,\n",
    "                                       save_best_only=True)\n",
    "]\n",
    "model.fit(X_train,\n",
    "          y_train,\n",
    "          validation_data=(X_valid, y_valid),\n",
    "          workers=12,\n",
    "          callbacks=callbacks,\n",
    "          verbose=0,\n",
    "          epochs=1000)"
   ]
  },
  {
   "cell_type": "markdown",
   "id": "622e0c34-c82e-4010-8414-572e5a31b31d",
   "metadata": {},
   "source": [
    "## DNN + callbacks + glorot_uniform + tanh"
   ]
  },
  {
   "cell_type": "code",
   "execution_count": 10,
   "id": "4ea45f6c-84a7-4045-bda2-c925b9b4db4b",
   "metadata": {},
   "outputs": [
    {
     "name": "stdout",
     "output_type": "stream",
     "text": [
      "CPU times: user 3.04 s, sys: 813 ms, total: 3.85 s\n",
      "Wall time: 2.83 s\n"
     ]
    },
    {
     "data": {
      "text/plain": [
       "<keras.callbacks.History at 0x14bd16970>"
      ]
     },
     "execution_count": 10,
     "metadata": {},
     "output_type": "execute_result"
    }
   ],
   "source": [
    "%%time\n",
    "model = tf.keras.models.Sequential([\n",
    "    tf.keras.Input(shape=(13,)),\n",
    "    tf.keras.layers.Dense(128, activation='tanh'),\n",
    "    tf.keras.layers.Dropout(0.2),\n",
    "    tf.keras.layers.Dense(1)\n",
    "])\n",
    "\n",
    "model.compile(optimizer='adam',\n",
    "              loss='mean_squared_error',\n",
    "              metrics=[tf.keras.metrics.RootMeanSquaredError()])\n",
    "callbacks = [\n",
    "    tf.keras.callbacks.EarlyStopping(monitor='val_root_mean_squared_error', patience=10),\n",
    "    tf.keras.callbacks.ReduceLROnPlateau(monitor='val_root_mean_squared_error'),\n",
    "    tf.keras.callbacks.ModelCheckpoint(filepath='checkpoint/4/{epoch:02d}-{val_root_mean_squared_error:.2f}.hdf5',\n",
    "                                       monitor='val_root_mean_squared_error',\n",
    "                                       verbose=0,\n",
    "                                       save_best_only=True)\n",
    "]\n",
    "model.fit(X_train,\n",
    "          y_train,\n",
    "          validation_data=(X_valid, y_valid),\n",
    "          workers=12,\n",
    "          callbacks=callbacks,\n",
    "          verbose=0,\n",
    "          epochs=1000)"
   ]
  },
  {
   "cell_type": "markdown",
   "id": "4b6ab119-65dc-4ab2-9fbb-54829f9fc437",
   "metadata": {
    "tags": []
   },
   "source": [
    "## DNN + callbacks + glorot_uniform + gelu"
   ]
  },
  {
   "cell_type": "code",
   "execution_count": 12,
   "id": "7305061c-144d-46f7-982d-19442fffd31e",
   "metadata": {},
   "outputs": [
    {
     "name": "stdout",
     "output_type": "stream",
     "text": [
      "CPU times: user 2.3 s, sys: 668 ms, total: 2.97 s\n",
      "Wall time: 2.09 s\n"
     ]
    },
    {
     "data": {
      "text/plain": [
       "<keras.callbacks.History at 0x14c3e16a0>"
      ]
     },
     "execution_count": 12,
     "metadata": {},
     "output_type": "execute_result"
    }
   ],
   "source": [
    "%%time\n",
    "model = tf.keras.models.Sequential([\n",
    "    tf.keras.Input(shape=(13,)),\n",
    "    tf.keras.layers.Dense(128, activation='gelu'),\n",
    "    tf.keras.layers.Dropout(0.2),\n",
    "    tf.keras.layers.Dense(1)\n",
    "])\n",
    "\n",
    "model.compile(optimizer='adam',\n",
    "              loss='mean_squared_error',\n",
    "              metrics=[tf.keras.metrics.RootMeanSquaredError()])\n",
    "callbacks = [\n",
    "    tf.keras.callbacks.EarlyStopping(monitor='val_root_mean_squared_error', patience=10),\n",
    "    tf.keras.callbacks.ReduceLROnPlateau(monitor='val_root_mean_squared_error'),\n",
    "    tf.keras.callbacks.ModelCheckpoint(filepath='checkpoint/5/{epoch:02d}-{val_root_mean_squared_error:.2f}.hdf5',\n",
    "                                       monitor='val_root_mean_squared_error',\n",
    "                                       verbose=0,\n",
    "                                       save_best_only=True)\n",
    "]\n",
    "model.fit(X_train,\n",
    "          y_train,\n",
    "          validation_data=(X_valid, y_valid),\n",
    "          workers=12,\n",
    "          callbacks=callbacks,\n",
    "          verbose=0,\n",
    "          epochs=1000)"
   ]
  },
  {
   "cell_type": "markdown",
   "id": "87d3f0df-1a54-401e-86db-02e71ad3ae82",
   "metadata": {},
   "source": [
    "## DNN + callbacks + glorot_uniform + selu"
   ]
  },
  {
   "cell_type": "code",
   "execution_count": 13,
   "id": "5ead5e9d-0583-4732-a4f9-26769405fff9",
   "metadata": {},
   "outputs": [
    {
     "name": "stdout",
     "output_type": "stream",
     "text": [
      "CPU times: user 2.46 s, sys: 702 ms, total: 3.16 s\n",
      "Wall time: 2.24 s\n"
     ]
    },
    {
     "data": {
      "text/plain": [
       "<keras.callbacks.History at 0x14c5332b0>"
      ]
     },
     "execution_count": 13,
     "metadata": {},
     "output_type": "execute_result"
    }
   ],
   "source": [
    "%%time\n",
    "model = tf.keras.models.Sequential([\n",
    "    tf.keras.Input(shape=(13,)),\n",
    "    tf.keras.layers.Dense(128, activation='selu'),\n",
    "    tf.keras.layers.Dropout(0.2),\n",
    "    tf.keras.layers.Dense(1)\n",
    "])\n",
    "\n",
    "model.compile(optimizer='adam',\n",
    "              loss='mean_squared_error',\n",
    "              metrics=[tf.keras.metrics.RootMeanSquaredError()])\n",
    "callbacks = [\n",
    "    tf.keras.callbacks.EarlyStopping(monitor='val_root_mean_squared_error', patience=10),\n",
    "    tf.keras.callbacks.ReduceLROnPlateau(monitor='val_root_mean_squared_error'),\n",
    "    tf.keras.callbacks.ModelCheckpoint(filepath='checkpoint/6/{epoch:02d}-{val_root_mean_squared_error:.2f}.hdf5',\n",
    "                                       monitor='val_root_mean_squared_error',\n",
    "                                       verbose=0,\n",
    "                                       save_best_only=True)\n",
    "]\n",
    "model.fit(X_train,\n",
    "          y_train,\n",
    "          validation_data=(X_valid, y_valid),\n",
    "          workers=12,\n",
    "          callbacks=callbacks,\n",
    "          verbose=0,\n",
    "          epochs=1000)"
   ]
  },
  {
   "cell_type": "markdown",
   "id": "215d3825-5404-4ea0-98be-6ca499c101b1",
   "metadata": {},
   "source": [
    "## DNN + callbacks + glorot_normal + relu + TensorBoard"
   ]
  },
  {
   "cell_type": "code",
   "execution_count": 16,
   "id": "bb0ff1da-e4ae-4ad6-8006-5e5591bc1987",
   "metadata": {},
   "outputs": [
    {
     "name": "stdout",
     "output_type": "stream",
     "text": [
      "The tensorboard extension is already loaded. To reload it, use:\n",
      "  %reload_ext tensorboard\n"
     ]
    },
    {
     "data": {
      "text/plain": [
       "Reusing TensorBoard on port 6006 (pid 2002), started 0:00:56 ago. (Use '!kill 2002' to kill it.)"
      ]
     },
     "metadata": {},
     "output_type": "display_data"
    },
    {
     "data": {
      "text/html": [
       "\n",
       "      <iframe id=\"tensorboard-frame-f9df162c0d0705d8\" width=\"100%\" height=\"800\" frameborder=\"0\">\n",
       "      </iframe>\n",
       "      <script>\n",
       "        (function() {\n",
       "          const frame = document.getElementById(\"tensorboard-frame-f9df162c0d0705d8\");\n",
       "          const url = new URL(\"/\", window.location);\n",
       "          const port = 6006;\n",
       "          if (port) {\n",
       "            url.port = port;\n",
       "          }\n",
       "          frame.src = url;\n",
       "        })();\n",
       "      </script>\n",
       "    "
      ],
      "text/plain": [
       "<IPython.core.display.HTML object>"
      ]
     },
     "metadata": {},
     "output_type": "display_data"
    },
    {
     "name": "stdout",
     "output_type": "stream",
     "text": [
      "CPU times: user 1.65 s, sys: 315 ms, total: 1.96 s\n",
      "Wall time: 1.62 s\n"
     ]
    },
    {
     "data": {
      "text/plain": [
       "<keras.callbacks.History at 0x14c71ba30>"
      ]
     },
     "execution_count": 16,
     "metadata": {},
     "output_type": "execute_result"
    }
   ],
   "source": [
    "%%time\n",
    "\n",
    "model = tf.keras.models.Sequential([\n",
    "    tf.keras.Input(shape=(13,)),\n",
    "    tf.keras.layers.Dense(128,\n",
    "                          kernel_initializer=tf.keras.initializers.GlorotNormal(),\n",
    "                          activation='relu'),\n",
    "    tf.keras.layers.Dropout(0.2),\n",
    "    tf.keras.layers.Dense(1)\n",
    "])\n",
    "\n",
    "model.compile(optimizer='adam',\n",
    "              loss='mean_squared_error',\n",
    "              metrics=[tf.keras.metrics.RootMeanSquaredError()])\n",
    "\n",
    "log_dir = \"tensorboards/\" + datetime.datetime.now().strftime(\"%Y%m%d-%H%M%S\")\n",
    "\n",
    "callbacks = [\n",
    "    tf.keras.callbacks.EarlyStopping(monitor='val_root_mean_squared_error', patience=10),\n",
    "    tf.keras.callbacks.ReduceLROnPlateau(monitor='val_root_mean_squared_error'),\n",
    "    tf.keras.callbacks.ModelCheckpoint(filepath='checkpoint/6/{epoch:02d}-{val_root_mean_squared_error:.2f}.hdf5',\n",
    "                                       monitor='val_root_mean_squared_error',\n",
    "                                       verbose=0,\n",
    "                                       save_best_only=True),\n",
    "    tf.keras.callbacks.TensorBoard(log_dir=log_dir, histogram_freq=1)\n",
    "]\n",
    "model.fit(X_train,\n",
    "          y_train,\n",
    "          validation_data=(X_valid, y_valid),\n",
    "          workers=12,\n",
    "          callbacks=callbacks,\n",
    "          verbose=0,\n",
    "          epochs=1000)"
   ]
  },
  {
   "cell_type": "code",
   "execution_count": null,
   "id": "6dd7c07e-7dbd-47c6-bd13-59f9b85c2cd7",
   "metadata": {},
   "outputs": [],
   "source": [
    "%tensorboard --logdir tensorboards"
   ]
  }
 ],
 "metadata": {
  "kernelspec": {
   "display_name": "Python 3 (ipykernel)",
   "language": "python",
   "name": "python3"
  },
  "language_info": {
   "codemirror_mode": {
    "name": "ipython",
    "version": 3
   },
   "file_extension": ".py",
   "mimetype": "text/x-python",
   "name": "python",
   "nbconvert_exporter": "python",
   "pygments_lexer": "ipython3",
   "version": "3.9.7"
  }
 },
 "nbformat": 4,
 "nbformat_minor": 5
}
